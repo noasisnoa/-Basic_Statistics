{
  "nbformat": 4,
  "nbformat_minor": 0,
  "metadata": {
    "colab": {
      "private_outputs": true,
      "provenance": [],
      "collapsed_sections": []
    },
    "kernelspec": {
      "name": "python3",
      "display_name": "Python 3"
    },
    "language_info": {
      "name": "python"
    }
  },
  "cells": [
    {
      "cell_type": "code",
      "execution_count": null,
      "metadata": {
        "id": "N0DcyicQiGx4"
      },
      "outputs": [],
      "source": [
        "import numpy as np\n",
        "import matplotlib.pyplot as plt\n",
        "from scipy import io\n",
        "import pandas as pd"
      ]
    },
    {
      "cell_type": "code",
      "source": [
        "data = pd.read_csv(\"https://raw.githubusercontent.com/jamesrobertlloyd/gp-structure-search/master/data/raw/TSDL/monthly-beer-production-in-austr.csv\",sep=',')\n",
        "data1 = data[\"Monthly beer production in Australia: megalitres. Includes ale and stout. Does not include beverages with alcohol percentage less than 1.15. Jan 1956 ? Aug 1995\"]"
      ],
      "metadata": {
        "id": "586znoxllvJX"
      },
      "execution_count": null,
      "outputs": []
    },
    {
      "cell_type": "code",
      "source": [
        "print(data1)"
      ],
      "metadata": {
        "id": "UQjrQQM0FQeu"
      },
      "execution_count": null,
      "outputs": []
    },
    {
      "cell_type": "code",
      "source": [
        "def low_pass_filter(x_meas,x_esti):\n",
        "  x_esti = alpha * x_esti + (1 - alpha) * x_meas\n",
        "  return x_esti"
      ],
      "metadata": {
        "id": "R5vzSN_0ISEu"
      },
      "execution_count": null,
      "outputs": []
    },
    {
      "cell_type": "code",
      "source": [
        "#inout parameters\n",
        "alpha = 0.9\n",
        "n_samples = 475"
      ],
      "metadata": {
        "id": "Zg3CdxClIWRG"
      },
      "execution_count": null,
      "outputs": []
    },
    {
      "cell_type": "code",
      "source": [
        "time = np.arange(0, n_samples)\n",
        "x_meas_save = np.zeros(n_samples)\n",
        "x_esti_save = np.zeros(n_samples)"
      ],
      "metadata": {
        "id": "P6iroOsHBS1u"
      },
      "execution_count": null,
      "outputs": []
    },
    {
      "cell_type": "code",
      "source": [
        "x_esti = None\n",
        "for i in range(n_samples):\n",
        "  x_meas = data1[i]\n",
        "  if i == 0:\n",
        "    x_esti = x_meas\n",
        "  else:\n",
        "    x_esti = low_pass_filter(x_meas, x_esti)\n",
        "\n",
        "  x_meas_save[i] = x_meas\n",
        "  x_esti_save[i] = x_esti  "
      ],
      "metadata": {
        "id": "K_UGJe_JIrt-"
      },
      "execution_count": null,
      "outputs": []
    },
    {
      "cell_type": "code",
      "source": [
        "plt.plot(time, x_meas_save, 'r*', label='Measured')\n",
        "plt.plot(time, x_esti_save, 'b-', label='Moving average')\n",
        "plt.legend(loc='upper left')\n",
        "plt.title('Measured Altitudes v.s. Moving Average Filter Values')\n",
        "plt.xlabel('Time [sec]')\n",
        "plt.ylabel('Altitude [m]')\n",
        "plt.savefig('/content/img')"
      ],
      "metadata": {
        "id": "4GVtJ6dSI1rP"
      },
      "execution_count": null,
      "outputs": []
    }
  ]
}